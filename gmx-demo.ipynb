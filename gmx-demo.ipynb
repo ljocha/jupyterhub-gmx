{
 "cells": [
  {
   "cell_type": "code",
   "execution_count": null,
   "id": "eb858049",
   "metadata": {},
   "outputs": [],
   "source": [
    "import urllib\n",
    "import gromacs as gmx\n",
    "import nglview as nv\n",
    "import mdtraj as md\n",
    "import numpy as np\n",
    "import matplotlib.pyplot as plt"
   ]
  },
  {
   "cell_type": "code",
   "execution_count": null,
   "id": "5b6afc62",
   "metadata": {},
   "outputs": [],
   "source": [
    "mdrun=gmx.MDrunnerK8s()\n",
    "\n",
    "def run(mpi=1,omp=2,gpus=1,**kwargs):\n",
    "    mdrun.run(pre={'cores':omp*mpi,'mpi':mpi,'omp':omp,'gpus':gpus}, mdrunargs={**kwargs,'ntomp':omp},ncores=mpi)"
   ]
  },
  {
   "cell_type": "code",
   "execution_count": null,
   "id": "adc5cb04",
   "metadata": {},
   "outputs": [],
   "source": [
    "# big guy\n",
    "# pdb='6pxm'\n",
    "# mpi=4\n",
    "# omp=4\n",
    "\n",
    "# little toy\n",
    "pdb='1l2y'\n",
    "mpi=1\n",
    "omp=2\n",
    "\n",
    "# repex demo\n",
    "pdb='6pxm'\n",
    "mpi=8\n",
    "omp=2\n",
    "\n",
    "urllib.request.urlretrieve(f'https://files.rcsb.org/download/{pdb}.pdb',f'{pdb}.pdb')"
   ]
  },
  {
   "cell_type": "code",
   "execution_count": null,
   "id": "9a75bbed",
   "metadata": {},
   "outputs": [],
   "source": [
    "nv.show_file(f'{pdb}.pdb')"
   ]
  },
  {
   "cell_type": "code",
   "execution_count": null,
   "id": "f963bfef",
   "metadata": {},
   "outputs": [],
   "source": [
    "gmx.pdb2gmx(f=pdb+'.pdb',o=pdb+'.gro',water='tip3p',ff='amber99',p=pdb+'.top',ignh=True)"
   ]
  },
  {
   "cell_type": "code",
   "execution_count": null,
   "id": "30ae3ee1",
   "metadata": {},
   "outputs": [],
   "source": [
    "gmx.editconf(f=pdb+'.gro',o=pdb+'-box.gro',c=True,d='1.5', bt='dodecahedron')"
   ]
  },
  {
   "cell_type": "code",
   "execution_count": null,
   "id": "024d64b6",
   "metadata": {},
   "outputs": [],
   "source": [
    "gmx.solvate(cp=pdb+'-box.gro',cs='spc216.gro',o=pdb+'-solv.gro',p=pdb+'.top')"
   ]
  },
  {
   "cell_type": "code",
   "execution_count": null,
   "id": "53480db5",
   "metadata": {},
   "outputs": [],
   "source": [
    "with open('ions.mdp','w') as ions:\n",
    "    ions.write(\"\"\"\\\n",
    "; ions.mdp - used as input into grompp to generate ions.tpr\n",
    "; Parameters describing what to do, when to stop and what to save\n",
    "integrator  = steep         ; Algorithm (steep = steepest descent minimization)\n",
    "emtol       = 1000.0        ; Stop minimization when the maximum force < 1000.0 kJ/mol/nm\n",
    "emstep      = 0.01          ; Minimization step size\n",
    "nsteps      = 50000         ; Maximum number of (minimization) steps to perform\n",
    "\n",
    "; Parameters describing how to find the neighbors of each atom and how to calculate the interactions\n",
    "nstlist         = 1         ; Frequency to update the neighbor list and long range forces\n",
    "cutoff-scheme\t= Verlet    ; Buffered neighbor searching \n",
    "ns_type         = grid      ; Method to determine neighbor list (simple, grid)\n",
    "coulombtype     = cutoff    ; Treatment of long range electrostatic interactions\n",
    "rcoulomb        = 1.0       ; Short-range electrostatic cut-off\n",
    "rvdw            = 1.0       ; Short-range Van der Waals cut-off\n",
    "pbc             = xyz       ; Periodic Boundary Conditions in all 3 dimensions\n",
    "\"\"\")\n",
    "    \n",
    "gmx.grompp(f='ions.mdp',c=pdb+'-solv.gro',p=pdb+'.top',o='ions.tpr')"
   ]
  },
  {
   "cell_type": "code",
   "execution_count": null,
   "id": "90a4168a",
   "metadata": {},
   "outputs": [],
   "source": [
    "gmx.select(s=pdb+'-solv.gro',on='solv.ndx',select='SOL')"
   ]
  },
  {
   "cell_type": "code",
   "execution_count": null,
   "id": "8d37b6d5",
   "metadata": {},
   "outputs": [],
   "source": [
    "gmx.genion(s='ions.tpr',n='solv.ndx',o=pdb+'-ions.gro',p=pdb+'.top',pname='NA',nname='CL',neutral=True)"
   ]
  },
  {
   "cell_type": "code",
   "execution_count": null,
   "id": "a0370b66",
   "metadata": {},
   "outputs": [],
   "source": [
    "with open('minim.mdp','w') as m:\n",
    "    m.write(\"\"\"\\\n",
    "; minim.mdp - used as input into grompp to generate em.tpr\n",
    "; Parameters describing what to do, when to stop and what to save\n",
    "integrator  = steep         ; Algorithm (steep = steepest descent minimization)\n",
    "emtol       = 1000.0        ; Stop minimization when the maximum force < 1000.0 kJ/mol/nm\n",
    "emstep      = 0.005          ; Minimization step size\n",
    "nsteps      = 50000         ; Maximum number of (minimization) steps to perform\n",
    "\n",
    "; Parameters describing how to find the neighbors of each atom and how to calculate the interactions\n",
    "nstlist         = 1         ; Frequency to update the neighbor list and long range forces\n",
    "cutoff-scheme   = Verlet    ; Buffered neighbor searching\n",
    "ns_type         = grid      ; Method to determine neighbor list (simple, grid)\n",
    "coulombtype     = PME       ; Treatment of long range electrostatic interactions\n",
    "rcoulomb        = 1.0       ; Short-range electrostatic cut-off\n",
    "rvdw            = 1.0       ; Short-range Van der Waals cut-off\n",
    "pbc             = xyz       ; Periodic Boundary Conditions in all 3 dimensions\n",
    "\n",
    "nstxout                 = 50         \n",
    "nstvout                 = 0        \n",
    "nstfout                 = 0\n",
    "nstenergy               = 50         \n",
    "\"\"\")\n",
    "    \n",
    "gmx.grompp(f='minim.mdp',c=pdb+'-ions.gro',p=pdb+'.top',o='em.tpr')"
   ]
  },
  {
   "cell_type": "code",
   "execution_count": null,
   "id": "9a7a45e9",
   "metadata": {},
   "outputs": [],
   "source": [
    "# can fail initially with k8s timeout etc., don't worry and retry\n",
    "run(mpi=1,omp=4,deffnm='em',gpus=1)"
   ]
  },
  {
   "cell_type": "code",
   "execution_count": null,
   "id": "40213ec1",
   "metadata": {},
   "outputs": [],
   "source": [
    "gmx.select(s=pdb+'-ions.gro',on='protein.ndx',select='Protein')"
   ]
  },
  {
   "cell_type": "code",
   "execution_count": null,
   "id": "a5498a40",
   "metadata": {},
   "outputs": [],
   "source": [
    "gmx.trjconv(s=pdb+'-ions.gro',f='em.trr',n='protein.ndx',o='em-protein.xtc')"
   ]
  },
  {
   "cell_type": "code",
   "execution_count": null,
   "id": "a5015709",
   "metadata": {},
   "outputs": [],
   "source": [
    "tr=md.load('em-protein.xtc',top=pdb+'.gro')\n",
    "nv.show_mdtraj(tr)"
   ]
  },
  {
   "cell_type": "code",
   "execution_count": null,
   "id": "f3aa116a-f66e-4264-b375-7654bee0fcf0",
   "metadata": {},
   "outputs": [],
   "source": [
    "eqsteps = 1000 # unrealistic, just speed up\n",
    "with open('nvt.mdp','w') as nvt:\n",
    "    nvt.write(f'''title                   = OPLS Lysozyme NVT equilibration \n",
    "define                  = -DPOSRES  ; position restrain the protein\n",
    "; Run parameters\n",
    "integrator              = md        ; leap-frog integrator\n",
    "nsteps                  = {eqsteps}     ; 2 * 50000 = 100 ps\n",
    "dt                      = 0.002     ; 2 fs\n",
    "; Output control\n",
    "nstxout                 = 500       ; save coordinates every 1.0 ps\n",
    "nstvout                 = 500       ; save velocities every 1.0 ps\n",
    "nstenergy               = 500       ; save energies every 1.0 ps\n",
    "nstlog                  = 500       ; update log file every 1.0 ps\n",
    "; Bond parameters\n",
    "continuation            = no        ; first dynamics run\n",
    "constraint_algorithm    = lincs     ; holonomic constraints \n",
    "constraints             = h-bonds   ; bonds involving H are constrained\n",
    "lincs_iter              = 1         ; accuracy of LINCS\n",
    "lincs_order             = 4         ; also related to accuracy\n",
    "; Nonbonded settings \n",
    "cutoff-scheme           = Verlet    ; Buffered neighbor searching\n",
    "ns_type                 = grid      ; search neighboring grid cells\n",
    "nstlist                 = 10        ; 20 fs, largely irrelevant with Verlet\n",
    "rcoulomb                = 1.0       ; short-range electrostatic cutoff (in nm)\n",
    "rvdw                    = 1.0       ; short-range van der Waals cutoff (in nm)\n",
    "DispCorr                = EnerPres  ; account for cut-off vdW scheme\n",
    "; Electrostatics\n",
    "coulombtype             = PME       ; Particle Mesh Ewald for long-range electrostatics\n",
    "pme_order               = 4         ; cubic interpolation\n",
    "fourierspacing          = 0.16      ; grid spacing for FFT\n",
    "; Temperature coupling is on\n",
    "tcoupl                  = V-rescale             ; modified Berendsen thermostat\n",
    "tc-grps                 = Protein Non-Protein   ; two coupling groups - more accurate\n",
    "tau_t                   = 0.1     0.1           ; time constant, in ps\n",
    "ref_t                   = 300     300           ; reference temperature, one for each group, in K\n",
    "; Pressure coupling is off\n",
    "pcoupl                  = no        ; no pressure coupling in NVT\n",
    "; Periodic boundary conditions\n",
    "pbc                     = xyz       ; 3-D PBC\n",
    "; Velocity generation\n",
    "gen_vel                 = yes       ; assign velocities from Maxwell distribution\n",
    "gen_temp                = 300       ; temperature for Maxwell distribution\n",
    "gen_seed                = -1        ; generate a random seed\n",
    "''')"
   ]
  },
  {
   "cell_type": "code",
   "execution_count": null,
   "id": "3fdaf288-e37f-4e56-80e4-aa06b39aa0ab",
   "metadata": {},
   "outputs": [],
   "source": [
    "gmx.grompp(f=\"nvt.mdp\",c=\"em.gro\",r=\"em.gro\",p=pdb+'.top',o=\"nvt.tpr\")"
   ]
  },
  {
   "cell_type": "code",
   "execution_count": null,
   "id": "a9698523-4135-4825-ae3b-253953b2bb02",
   "metadata": {},
   "outputs": [],
   "source": [
    "run(mpi=mpi,omp=omp,deffnm='nvt',gpus=1)"
   ]
  },
  {
   "cell_type": "code",
   "execution_count": null,
   "id": "63a525c2-c8c4-4566-8951-a88272caed76",
   "metadata": {},
   "outputs": [],
   "source": [
    "gmx.energy(f='nvt.edr',o='press.xvg',input='Pressure')\n",
    "#gmx.energy(f='nvt.edr',o='dens.xvg',input='Density')\n",
    "gmx.energy(f='nvt.edr',o='temp.xvg',input='Temperature')"
   ]
  },
  {
   "cell_type": "code",
   "execution_count": null,
   "id": "2c5ff32a-d143-430c-8082-35ca0c4d8199",
   "metadata": {},
   "outputs": [],
   "source": [
    "temp = np.loadtxt('temp.xvg',comments=['#','@'])\n",
    "press = np.loadtxt('press.xvg',comments=['#','@'])\n",
    "\n",
    "plt.figure(figsize=(15,9))\n",
    "plt.subplot(211)\n",
    "plt.plot(press[:,0],press[:,1])\n",
    "plt.title('isothermal-isochoric equilibration')\n",
    "plt.grid()\n",
    "#plt.xlabel('time (ps)')\n",
    "plt.ylabel(\"pressure (bar)\")\n",
    "\n",
    "\n",
    "plt.subplot(212)\n",
    "plt.xlabel('time (ps)')\n",
    "plt.ylabel('temperature (K)')\n",
    "plt.grid()\n",
    "plt.plot(temp[:,0],temp[:,1])\n",
    "\n",
    "plt.show()"
   ]
  },
  {
   "cell_type": "code",
   "execution_count": null,
   "id": "e6ad7b0e-cd84-4640-9dbc-b2d757bb1cd3",
   "metadata": {},
   "outputs": [],
   "source": [
    "with open('npt.mdp','w') as npt:\n",
    "    npt.write(f'''define                  = -DPOSRES  ; position restrain the protein\n",
    "; Run parameters\n",
    "integrator              = md        ; leap-frog integrator\n",
    "nsteps                  = {eqsteps}     ; 2 * 50000 = 100 ps\n",
    "dt                      = 0.002     ; 2 fs\n",
    "; Output control\n",
    "nstxout                 = 500       ; save coordinates every 1.0 ps\n",
    "nstvout                 = 500       ; save velocities every 1.0 ps\n",
    "nstenergy               = 500       ; save energies every 1.0 ps\n",
    "nstlog                  = 500       ; update log file every 1.0 ps\n",
    "; Bond parameters\n",
    "continuation            = yes       ; Restarting after NVT \n",
    "constraint_algorithm    = lincs     ; holonomic constraints \n",
    "constraints             = h-bonds   ; bonds involving H are constrained\n",
    "lincs_iter              = 1         ; accuracy of LINCS\n",
    "lincs_order             = 4         ; also related to accuracy\n",
    "; Nonbonded settings \n",
    "cutoff-scheme           = Verlet    ; Buffered neighbor searching\n",
    "ns_type                 = grid      ; search neighboring grid cells\n",
    "nstlist                 = 10        ; 20 fs, largely irrelevant with Verlet scheme\n",
    "rcoulomb                = 1.0       ; short-range electrostatic cutoff (in nm)\n",
    "rvdw                    = 1.0       ; short-range van der Waals cutoff (in nm)\n",
    "DispCorr                = EnerPres  ; account for cut-off vdW scheme\n",
    "; Electrostatics\n",
    "coulombtype             = PME       ; Particle Mesh Ewald for long-range electrostatics\n",
    "pme_order               = 4         ; cubic interpolation\n",
    "fourierspacing          = 0.16      ; grid spacing for FFT\n",
    "; Temperature coupling is on\n",
    "tcoupl                  = V-rescale             ; modified Berendsen thermostat\n",
    "tc-grps                 = Protein Non-Protein   ; two coupling groups - more accurate\n",
    "tau_t                   = 0.1     0.1           ; time constant, in ps\n",
    "ref_t                   = 300     300           ; reference temperature, one for each group, in K\n",
    "; Pressure coupling is on\n",
    "; ljocha pcoupl                  = Parrinello-Rahman     ; Pressure coupling on in NPT\n",
    "pcoupl = C-rescale\n",
    "pcoupltype              = isotropic             ; uniform scaling of box vectors\n",
    "; ljocha tau_p                   = 2.0                   ; time constant, in ps\n",
    "tau_p = 5.0\n",
    "ref_p                   = 1.0                   ; reference pressure, in bar\n",
    "compressibility         = 4.5e-5                ; isothermal compressibility of water, bar^-1\n",
    "refcoord_scaling        = com\n",
    "; Periodic boundary conditions\n",
    "pbc                     = xyz       ; 3-D PBC\n",
    "; Velocity generation\n",
    "gen_vel                 = no        ; Velocity generation is off \n",
    "''')"
   ]
  },
  {
   "cell_type": "code",
   "execution_count": null,
   "id": "68921fbc-b78e-4673-805e-9c7ca8d9166a",
   "metadata": {},
   "outputs": [],
   "source": [
    "gmx.grompp(f=\"npt.mdp\",c=\"nvt.gro\",r=\"nvt.gro\",p=pdb+'.top',o=\"npt.tpr\")"
   ]
  },
  {
   "cell_type": "code",
   "execution_count": null,
   "id": "fb2fa109-2b79-45a0-920c-11c5abb22047",
   "metadata": {},
   "outputs": [],
   "source": [
    "run(mpi=mpi,omp=omp,gpus=1,deffnm='npt')"
   ]
  },
  {
   "cell_type": "code",
   "execution_count": null,
   "id": "237d5f79-511c-4936-bca3-599f1df6695f",
   "metadata": {},
   "outputs": [],
   "source": [
    "gmx.energy(f='npt.edr',o='press.xvg',input='Pressure')\n",
    "gmx.energy(f='npt.edr',o='dens.xvg',input='Density')\n",
    "gmx.energy(f='npt.edr',o='temp.xvg',input='Temperature')"
   ]
  },
  {
   "cell_type": "code",
   "execution_count": null,
   "id": "615a227a-1235-4c0e-8b76-10e853e1072a",
   "metadata": {},
   "outputs": [],
   "source": [
    "temp = np.loadtxt('temp.xvg',comments=['#','@'])\n",
    "press = np.loadtxt('press.xvg',comments=['#','@'])\n",
    "dens = np.loadtxt('dens.xvg',comments=['#','@'])\n",
    "\n",
    "plt.figure(figsize=(15,9))\n",
    "plt.subplot(311)\n",
    "plt.plot(press[:,0],press[:,1])\n",
    "plt.title('isothermal-isobaric equilibration')\n",
    "plt.grid()\n",
    "#plt.xlabel('time (ps)')\n",
    "plt.ylabel(\"pressure (bar)\")\n",
    "\n",
    "plt.subplot(312)\n",
    "plt.ylabel('density (kg/m3)')\n",
    "plt.grid()\n",
    "plt.plot(dens[:,0],dens[:,1])\n",
    "\n",
    "plt.subplot(313)\n",
    "plt.xlabel('time (ps)')\n",
    "plt.ylabel('temperature (K)')\n",
    "plt.grid()\n",
    "plt.plot(temp[:,0],temp[:,1])\n",
    "\n",
    "plt.show()"
   ]
  },
  {
   "cell_type": "code",
   "execution_count": null,
   "id": "58031bea-a054-40d1-b255-a32cdfc22232",
   "metadata": {},
   "outputs": [],
   "source": [
    "def write_mdp(file,nsteps,ref_t):\n",
    "    with open(file,'w') as mdp:\n",
    "        mdp.write(f'''integrator              = md        ; leap-frog integrator\n",
    "dt                      = 0.002     ; 2 fs\n",
    "; Output control\n",
    "nstxout                 = 0         ; suppress bulky .trr file by specifying \n",
    "nstvout                 = 0         ; 0 for output frequency of nstxout,\n",
    "nstfout                 = 0         ; nstvout, and nstfout\n",
    "nstenergy               = 5000      ; save energies every 10.0 ps\n",
    "nstlog                  = 5000      ; update log file every 10.0 ps\n",
    "nstxout-compressed      = 5000      ; save compressed coordinates every 10.0 ps\n",
    "compressed-x-grps       = Protein    \n",
    "; Bond parameters\n",
    "continuation            = yes       ; Restarting after NPT \n",
    "constraint_algorithm    = lincs     ; holonomic constraints \n",
    "constraints             = h-bonds   ; bonds involving H are constrained\n",
    "lincs_iter              = 1         ; accuracy of LINCS\n",
    "lincs_order             = 4         ; also related to accuracy\n",
    "; Neighborsearching\n",
    "cutoff-scheme           = Verlet    ; Buffered neighbor searching\n",
    "ns_type                 = grid      ; search neighboring grid cells\n",
    "nstlist                 = 10        ; 20 fs, largely irrelevant with Verlet scheme\n",
    "rcoulomb                = 1.0       ; short-range electrostatic cutoff (in nm)\n",
    "rvdw                    = 1.0       ; short-range van der Waals cutoff (in nm)\n",
    "; Electrostatics\n",
    "coulombtype             = PME       ; Particle Mesh Ewald for long-range electrostatics\n",
    "pme_order               = 4         ; cubic interpolation\n",
    "fourierspacing          = 0.16      ; grid spacing for FFT\n",
    "; Temperature coupling is on\n",
    "tcoupl                  = V-rescale             ; modified Berendsen thermostat\n",
    "tc-grps                 = Protein Non-Protein   ; two coupling groups - more accurate\n",
    "tau_t                   = 0.1     0.1           ; time constant, in ps\n",
    "ref_t                   = {ref_t}     {ref_t}           ; reference temperature, one for each group, in K\n",
    "; Pressure coupling is on\n",
    "pcoupl                  = Parrinello-Rahman     ; Pressure coupling on in NPT\n",
    "pcoupltype              = isotropic             ; uniform scaling of box vectors\n",
    "tau_p                   = 2.0                   ; time constant, in ps\n",
    "ref_p                   = 1.0                   ; reference pressure, in bar\n",
    "compressibility         = 4.5e-5                ; isothermal compressibility of water, bar^-1\n",
    "; Periodic boundary conditions\n",
    "pbc                     = xyz       ; 3-D PBC\n",
    "; Dispersion correction\n",
    "DispCorr                = EnerPres  ; account for cut-off vdW scheme\n",
    "; Velocity generation\n",
    "gen_vel                 = no        ; Velocity generation is off \n",
    "nsteps = {nsteps}\n",
    "''')"
   ]
  },
  {
   "cell_type": "code",
   "execution_count": null,
   "id": "4d479dd9-e587-4767-8228-d82c51bbd53a",
   "metadata": {},
   "outputs": [],
   "source": [
    "time = 100 #ps\n",
    "nsteps = time * 500 # XXX: dt = 0.002\n",
    "ref_t = 300\n",
    "\n",
    "write_mdp('md.mdp',nsteps,ref_t)"
   ]
  },
  {
   "cell_type": "code",
   "execution_count": null,
   "id": "05d99f10-e54e-4559-950c-0ed31f4df54e",
   "metadata": {},
   "outputs": [],
   "source": [
    "gmx.grompp(f=\"md.mdp\",c=\"npt.gro\",r=\"npt.gro\",p=pdb+'.top',o=\"md.tpr\")"
   ]
  },
  {
   "cell_type": "code",
   "execution_count": null,
   "id": "c9e26a6f-70ea-460c-8ec1-b31d6c6c83ac",
   "metadata": {},
   "outputs": [],
   "source": [
    "run(mpi=mpi,omp=omp,deffnm='md')"
   ]
  },
  {
   "cell_type": "code",
   "execution_count": null,
   "id": "2e4e2e4e-619d-4297-aa4a-ada5df9d7cc7",
   "metadata": {},
   "outputs": [],
   "source": []
  },
  {
   "cell_type": "code",
   "execution_count": null,
   "id": "72c783a6-cd16-4220-86d6-ff3a975d01fd",
   "metadata": {},
   "outputs": [],
   "source": [
    "gmx.trjconv(f='md.xtc',s=pdb+'-box.gro',pbc='nojump',input='Protein Protein'.split(),o='pbc.xtc')"
   ]
  },
  {
   "cell_type": "code",
   "execution_count": null,
   "id": "3907248a-f8f5-4710-bca2-09b22ec221a4",
   "metadata": {},
   "outputs": [],
   "source": [
    "gmx.trjconv(f='pbc.xtc',s=pdb+'-box.gro',fit='rot+trans',input='Protein Protein'.split(),o='fit.xtc')"
   ]
  },
  {
   "cell_type": "code",
   "execution_count": null,
   "id": "b7392249-64e3-4b75-8f56-40cf46c19b56",
   "metadata": {},
   "outputs": [],
   "source": [
    "tr = md.load('fit.xtc',top=f'{pdb}-box.gro')\n",
    "nv.show_mdtraj(tr)"
   ]
  },
  {
   "cell_type": "code",
   "execution_count": null,
   "id": "161633ba-d2d6-4f5e-ad71-0ae7f31d3350",
   "metadata": {},
   "outputs": [],
   "source": []
  },
  {
   "cell_type": "code",
   "execution_count": null,
   "id": "ec027fff-fa9b-4c90-98a1-c670a068f24b",
   "metadata": {},
   "outputs": [],
   "source": [
    "# Replica exchange "
   ]
  },
  {
   "cell_type": "code",
   "execution_count": null,
   "id": "fd75f712-b463-40a3-a9d4-13983e0d25cb",
   "metadata": {},
   "outputs": [],
   "source": [
    "for rep in range(mpi):\n",
    "    %mkdir rep_{rep}\n",
    "    %cd rep_{rep}\n",
    "    write_mdp('md.mdp',nsteps,ref_t + 10*rep)\n",
    "    gmx.grompp(f=\"md.mdp\",c=\"../npt.gro\",r=\"../npt.gro\",p='../'+pdb+'.top',o=\"md.tpr\")\n",
    "    %cd -\n",
    "    "
   ]
  },
  {
   "cell_type": "code",
   "execution_count": null,
   "id": "0d900c58-3387-4320-840f-2a554b3b6180",
   "metadata": {},
   "outputs": [],
   "source": [
    "run(mpi=mpi,omp=omp,gpus=1,deffnm='md',multidir=[ f'rep_{rep}' for rep in range(mpi)],replex=100)"
   ]
  },
  {
   "cell_type": "code",
   "execution_count": null,
   "id": "4ab0f804-702a-4240-9730-fae2fea2c5e6",
   "metadata": {},
   "outputs": [],
   "source": []
  }
 ],
 "metadata": {
  "kernelspec": {
   "display_name": "Python 3 (ipykernel)",
   "language": "python",
   "name": "python3"
  },
  "language_info": {
   "codemirror_mode": {
    "name": "ipython",
    "version": 3
   },
   "file_extension": ".py",
   "mimetype": "text/x-python",
   "name": "python",
   "nbconvert_exporter": "python",
   "pygments_lexer": "ipython3",
   "version": "3.12.7"
  }
 },
 "nbformat": 4,
 "nbformat_minor": 5
}
